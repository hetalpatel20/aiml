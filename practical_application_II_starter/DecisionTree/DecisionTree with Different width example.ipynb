{
 "cells": [
  {
   "cell_type": "markdown",
   "metadata": {},
   "source": [
    "### Generating Overfit Tree Models\n",
    "\n",
    "By default, you scikitlearn tree models will grow until every node is pure.  To explore this, you are to build different models using the `max_depth` parameter and determine when the tree begins to overfit the data.  For depths from `max_depth = 1` until the tree is completed, keep track of the accuracy on training vs. test data and generate a plot with depths as the horizontal axis and accuracy as the vertical axis for train and test data.  \n",
    "\n",
    "Repeat this process with different splits of the data to determine at what depth the tree begins to overfit.  Share your results with your peers and discuss your approach to generating the visualization.  What are the consequences of this overfitting for your approach to building Decision Trees?   We provide a small dataset with health data where your goal is to predict whether or not the individuals survive."
   ]
  },
  {
   "cell_type": "code",
   "execution_count": 21,
   "metadata": {},
   "outputs": [],
   "source": [
    "import pandas as pd\n",
    "import numpy as np\n",
    "import matplotlib.pyplot as plt\n",
    "import seaborn as sns\n",
    "from sklearn import metrics\n",
    "from sklearn.tree import DecisionTreeClassifier, export_text, plot_tree\n",
    "from sklearn.model_selection import train_test_split"
   ]
  },
  {
   "cell_type": "code",
   "execution_count": 22,
   "metadata": {},
   "outputs": [],
   "source": [
    "data = pd.read_csv('data/Whickham.txt')"
   ]
  },
  {
   "cell_type": "code",
   "execution_count": 23,
   "metadata": {},
   "outputs": [
    {
     "data": {
      "text/html": [
       "<div>\n",
       "<style scoped>\n",
       "    .dataframe tbody tr th:only-of-type {\n",
       "        vertical-align: middle;\n",
       "    }\n",
       "\n",
       "    .dataframe tbody tr th {\n",
       "        vertical-align: top;\n",
       "    }\n",
       "\n",
       "    .dataframe thead th {\n",
       "        text-align: right;\n",
       "    }\n",
       "</style>\n",
       "<table border=\"1\" class=\"dataframe\">\n",
       "  <thead>\n",
       "    <tr style=\"text-align: right;\">\n",
       "      <th></th>\n",
       "      <th>outcome</th>\n",
       "      <th>smoker</th>\n",
       "      <th>age</th>\n",
       "    </tr>\n",
       "  </thead>\n",
       "  <tbody>\n",
       "    <tr>\n",
       "      <th>0</th>\n",
       "      <td>Alive</td>\n",
       "      <td>Yes</td>\n",
       "      <td>23</td>\n",
       "    </tr>\n",
       "    <tr>\n",
       "      <th>1</th>\n",
       "      <td>Alive</td>\n",
       "      <td>Yes</td>\n",
       "      <td>18</td>\n",
       "    </tr>\n",
       "    <tr>\n",
       "      <th>2</th>\n",
       "      <td>Dead</td>\n",
       "      <td>Yes</td>\n",
       "      <td>71</td>\n",
       "    </tr>\n",
       "    <tr>\n",
       "      <th>3</th>\n",
       "      <td>Alive</td>\n",
       "      <td>No</td>\n",
       "      <td>67</td>\n",
       "    </tr>\n",
       "    <tr>\n",
       "      <th>4</th>\n",
       "      <td>Alive</td>\n",
       "      <td>No</td>\n",
       "      <td>64</td>\n",
       "    </tr>\n",
       "  </tbody>\n",
       "</table>\n",
       "</div>"
      ],
      "text/plain": [
       "  outcome smoker  age\n",
       "0   Alive    Yes   23\n",
       "1   Alive    Yes   18\n",
       "2    Dead    Yes   71\n",
       "3   Alive     No   67\n",
       "4   Alive     No   64"
      ]
     },
     "execution_count": 23,
     "metadata": {},
     "output_type": "execute_result"
    }
   ],
   "source": [
    "data.head()"
   ]
  },
  {
   "cell_type": "code",
   "execution_count": 39,
   "metadata": {},
   "outputs": [
    {
     "name": "stdout",
     "output_type": "stream",
     "text": [
      "      smoker  age\n",
      "0          1   23\n",
      "1          1   18\n",
      "2          1   71\n",
      "3          0   67\n",
      "4          0   64\n",
      "...      ...  ...\n",
      "1309       1   35\n",
      "1310       0   33\n",
      "1311       1   21\n",
      "1312       0   46\n",
      "1313       1   41\n",
      "\n",
      "[1314 rows x 2 columns]\n"
     ]
    }
   ],
   "source": [
    "X = data[['smoker', 'age']]\n",
    "y = data['outcome']\n",
    "x_new=X.replace('Yes',1).replace('No',0)\n",
    "y_new=y.replace('Alive',1).replace('Dead',0)\n",
    "\n",
    "# 70% training and 30% test"
   ]
  },
  {
   "cell_type": "code",
   "execution_count": 66,
   "metadata": {},
   "outputs": [
    {
     "data": {
      "text/plain": [
       "(3, 0.8476605005440696, 0.8632911392405064)"
      ]
     },
     "execution_count": 66,
     "metadata": {},
     "output_type": "execute_result"
    }
   ],
   "source": [
    "training_score=[]\n",
    "def gen_decision_tree_models(maxdepth):\n",
    "    X_train, X_test, y_train, y_test = train_test_split(x_new, y_new, test_size=0.3, random_state=42) \n",
    "    tree=DecisionTreeClassifier(criterion=\"entropy\",max_depth=maxdepth).fit(X_train, y_train)\n",
    "    y_pred = tree.predict(X_test)\n",
    "    train_score = tree.score(X_train,y_train)\n",
    "    test_score = metrics.accuracy_score(y_test, y_pred)\n",
    "    return maxdepth,train_score,test_score\n",
    "\n",
    "gen_decision_tree_models(3)"
   ]
  },
  {
   "cell_type": "code",
   "execution_count": 81,
   "metadata": {},
   "outputs": [
    {
     "data": {
      "application/vnd.plotly.v1+json": {
       "config": {
        "plotlyServerURL": "https://plot.ly"
       },
       "data": [
        {
         "hovertemplate": "maxdepth=%{x}<br>training_acc=%{y}<extra></extra>",
         "legendgroup": "",
         "line": {
          "color": "#636efa",
          "dash": "solid"
         },
         "marker": {
          "symbol": "circle"
         },
         "mode": "lines",
         "name": "",
         "orientation": "v",
         "showlegend": false,
         "type": "scatter",
         "x": [
          1,
          2,
          3,
          4,
          5,
          6,
          7,
          8,
          9,
          10,
          11,
          12,
          13,
          14
         ],
         "xaxis": "x",
         "y": [
          0.8346028291621328,
          0.8389553862894451,
          0.8476605005440696,
          0.85310119695321,
          0.8552774755168662,
          0.8563656147986942,
          0.8563656147986942,
          0.8563656147986942,
          0.8563656147986942,
          0.8563656147986942,
          0.8563656147986942,
          0.8563656147986942,
          0.8563656147986942,
          0.8563656147986942
         ],
         "yaxis": "y"
        }
       ],
       "layout": {
        "legend": {
         "tracegroupgap": 0
        },
        "template": {
         "data": {
          "bar": [
           {
            "error_x": {
             "color": "#2a3f5f"
            },
            "error_y": {
             "color": "#2a3f5f"
            },
            "marker": {
             "line": {
              "color": "#E5ECF6",
              "width": 0.5
             },
             "pattern": {
              "fillmode": "overlay",
              "size": 10,
              "solidity": 0.2
             }
            },
            "type": "bar"
           }
          ],
          "barpolar": [
           {
            "marker": {
             "line": {
              "color": "#E5ECF6",
              "width": 0.5
             },
             "pattern": {
              "fillmode": "overlay",
              "size": 10,
              "solidity": 0.2
             }
            },
            "type": "barpolar"
           }
          ],
          "carpet": [
           {
            "aaxis": {
             "endlinecolor": "#2a3f5f",
             "gridcolor": "white",
             "linecolor": "white",
             "minorgridcolor": "white",
             "startlinecolor": "#2a3f5f"
            },
            "baxis": {
             "endlinecolor": "#2a3f5f",
             "gridcolor": "white",
             "linecolor": "white",
             "minorgridcolor": "white",
             "startlinecolor": "#2a3f5f"
            },
            "type": "carpet"
           }
          ],
          "choropleth": [
           {
            "colorbar": {
             "outlinewidth": 0,
             "ticks": ""
            },
            "type": "choropleth"
           }
          ],
          "contour": [
           {
            "colorbar": {
             "outlinewidth": 0,
             "ticks": ""
            },
            "colorscale": [
             [
              0,
              "#0d0887"
             ],
             [
              0.1111111111111111,
              "#46039f"
             ],
             [
              0.2222222222222222,
              "#7201a8"
             ],
             [
              0.3333333333333333,
              "#9c179e"
             ],
             [
              0.4444444444444444,
              "#bd3786"
             ],
             [
              0.5555555555555556,
              "#d8576b"
             ],
             [
              0.6666666666666666,
              "#ed7953"
             ],
             [
              0.7777777777777778,
              "#fb9f3a"
             ],
             [
              0.8888888888888888,
              "#fdca26"
             ],
             [
              1,
              "#f0f921"
             ]
            ],
            "type": "contour"
           }
          ],
          "contourcarpet": [
           {
            "colorbar": {
             "outlinewidth": 0,
             "ticks": ""
            },
            "type": "contourcarpet"
           }
          ],
          "heatmap": [
           {
            "colorbar": {
             "outlinewidth": 0,
             "ticks": ""
            },
            "colorscale": [
             [
              0,
              "#0d0887"
             ],
             [
              0.1111111111111111,
              "#46039f"
             ],
             [
              0.2222222222222222,
              "#7201a8"
             ],
             [
              0.3333333333333333,
              "#9c179e"
             ],
             [
              0.4444444444444444,
              "#bd3786"
             ],
             [
              0.5555555555555556,
              "#d8576b"
             ],
             [
              0.6666666666666666,
              "#ed7953"
             ],
             [
              0.7777777777777778,
              "#fb9f3a"
             ],
             [
              0.8888888888888888,
              "#fdca26"
             ],
             [
              1,
              "#f0f921"
             ]
            ],
            "type": "heatmap"
           }
          ],
          "heatmapgl": [
           {
            "colorbar": {
             "outlinewidth": 0,
             "ticks": ""
            },
            "colorscale": [
             [
              0,
              "#0d0887"
             ],
             [
              0.1111111111111111,
              "#46039f"
             ],
             [
              0.2222222222222222,
              "#7201a8"
             ],
             [
              0.3333333333333333,
              "#9c179e"
             ],
             [
              0.4444444444444444,
              "#bd3786"
             ],
             [
              0.5555555555555556,
              "#d8576b"
             ],
             [
              0.6666666666666666,
              "#ed7953"
             ],
             [
              0.7777777777777778,
              "#fb9f3a"
             ],
             [
              0.8888888888888888,
              "#fdca26"
             ],
             [
              1,
              "#f0f921"
             ]
            ],
            "type": "heatmapgl"
           }
          ],
          "histogram": [
           {
            "marker": {
             "pattern": {
              "fillmode": "overlay",
              "size": 10,
              "solidity": 0.2
             }
            },
            "type": "histogram"
           }
          ],
          "histogram2d": [
           {
            "colorbar": {
             "outlinewidth": 0,
             "ticks": ""
            },
            "colorscale": [
             [
              0,
              "#0d0887"
             ],
             [
              0.1111111111111111,
              "#46039f"
             ],
             [
              0.2222222222222222,
              "#7201a8"
             ],
             [
              0.3333333333333333,
              "#9c179e"
             ],
             [
              0.4444444444444444,
              "#bd3786"
             ],
             [
              0.5555555555555556,
              "#d8576b"
             ],
             [
              0.6666666666666666,
              "#ed7953"
             ],
             [
              0.7777777777777778,
              "#fb9f3a"
             ],
             [
              0.8888888888888888,
              "#fdca26"
             ],
             [
              1,
              "#f0f921"
             ]
            ],
            "type": "histogram2d"
           }
          ],
          "histogram2dcontour": [
           {
            "colorbar": {
             "outlinewidth": 0,
             "ticks": ""
            },
            "colorscale": [
             [
              0,
              "#0d0887"
             ],
             [
              0.1111111111111111,
              "#46039f"
             ],
             [
              0.2222222222222222,
              "#7201a8"
             ],
             [
              0.3333333333333333,
              "#9c179e"
             ],
             [
              0.4444444444444444,
              "#bd3786"
             ],
             [
              0.5555555555555556,
              "#d8576b"
             ],
             [
              0.6666666666666666,
              "#ed7953"
             ],
             [
              0.7777777777777778,
              "#fb9f3a"
             ],
             [
              0.8888888888888888,
              "#fdca26"
             ],
             [
              1,
              "#f0f921"
             ]
            ],
            "type": "histogram2dcontour"
           }
          ],
          "mesh3d": [
           {
            "colorbar": {
             "outlinewidth": 0,
             "ticks": ""
            },
            "type": "mesh3d"
           }
          ],
          "parcoords": [
           {
            "line": {
             "colorbar": {
              "outlinewidth": 0,
              "ticks": ""
             }
            },
            "type": "parcoords"
           }
          ],
          "pie": [
           {
            "automargin": true,
            "type": "pie"
           }
          ],
          "scatter": [
           {
            "fillpattern": {
             "fillmode": "overlay",
             "size": 10,
             "solidity": 0.2
            },
            "type": "scatter"
           }
          ],
          "scatter3d": [
           {
            "line": {
             "colorbar": {
              "outlinewidth": 0,
              "ticks": ""
             }
            },
            "marker": {
             "colorbar": {
              "outlinewidth": 0,
              "ticks": ""
             }
            },
            "type": "scatter3d"
           }
          ],
          "scattercarpet": [
           {
            "marker": {
             "colorbar": {
              "outlinewidth": 0,
              "ticks": ""
             }
            },
            "type": "scattercarpet"
           }
          ],
          "scattergeo": [
           {
            "marker": {
             "colorbar": {
              "outlinewidth": 0,
              "ticks": ""
             }
            },
            "type": "scattergeo"
           }
          ],
          "scattergl": [
           {
            "marker": {
             "colorbar": {
              "outlinewidth": 0,
              "ticks": ""
             }
            },
            "type": "scattergl"
           }
          ],
          "scattermapbox": [
           {
            "marker": {
             "colorbar": {
              "outlinewidth": 0,
              "ticks": ""
             }
            },
            "type": "scattermapbox"
           }
          ],
          "scatterpolar": [
           {
            "marker": {
             "colorbar": {
              "outlinewidth": 0,
              "ticks": ""
             }
            },
            "type": "scatterpolar"
           }
          ],
          "scatterpolargl": [
           {
            "marker": {
             "colorbar": {
              "outlinewidth": 0,
              "ticks": ""
             }
            },
            "type": "scatterpolargl"
           }
          ],
          "scatterternary": [
           {
            "marker": {
             "colorbar": {
              "outlinewidth": 0,
              "ticks": ""
             }
            },
            "type": "scatterternary"
           }
          ],
          "surface": [
           {
            "colorbar": {
             "outlinewidth": 0,
             "ticks": ""
            },
            "colorscale": [
             [
              0,
              "#0d0887"
             ],
             [
              0.1111111111111111,
              "#46039f"
             ],
             [
              0.2222222222222222,
              "#7201a8"
             ],
             [
              0.3333333333333333,
              "#9c179e"
             ],
             [
              0.4444444444444444,
              "#bd3786"
             ],
             [
              0.5555555555555556,
              "#d8576b"
             ],
             [
              0.6666666666666666,
              "#ed7953"
             ],
             [
              0.7777777777777778,
              "#fb9f3a"
             ],
             [
              0.8888888888888888,
              "#fdca26"
             ],
             [
              1,
              "#f0f921"
             ]
            ],
            "type": "surface"
           }
          ],
          "table": [
           {
            "cells": {
             "fill": {
              "color": "#EBF0F8"
             },
             "line": {
              "color": "white"
             }
            },
            "header": {
             "fill": {
              "color": "#C8D4E3"
             },
             "line": {
              "color": "white"
             }
            },
            "type": "table"
           }
          ]
         },
         "layout": {
          "annotationdefaults": {
           "arrowcolor": "#2a3f5f",
           "arrowhead": 0,
           "arrowwidth": 1
          },
          "autotypenumbers": "strict",
          "coloraxis": {
           "colorbar": {
            "outlinewidth": 0,
            "ticks": ""
           }
          },
          "colorscale": {
           "diverging": [
            [
             0,
             "#8e0152"
            ],
            [
             0.1,
             "#c51b7d"
            ],
            [
             0.2,
             "#de77ae"
            ],
            [
             0.3,
             "#f1b6da"
            ],
            [
             0.4,
             "#fde0ef"
            ],
            [
             0.5,
             "#f7f7f7"
            ],
            [
             0.6,
             "#e6f5d0"
            ],
            [
             0.7,
             "#b8e186"
            ],
            [
             0.8,
             "#7fbc41"
            ],
            [
             0.9,
             "#4d9221"
            ],
            [
             1,
             "#276419"
            ]
           ],
           "sequential": [
            [
             0,
             "#0d0887"
            ],
            [
             0.1111111111111111,
             "#46039f"
            ],
            [
             0.2222222222222222,
             "#7201a8"
            ],
            [
             0.3333333333333333,
             "#9c179e"
            ],
            [
             0.4444444444444444,
             "#bd3786"
            ],
            [
             0.5555555555555556,
             "#d8576b"
            ],
            [
             0.6666666666666666,
             "#ed7953"
            ],
            [
             0.7777777777777778,
             "#fb9f3a"
            ],
            [
             0.8888888888888888,
             "#fdca26"
            ],
            [
             1,
             "#f0f921"
            ]
           ],
           "sequentialminus": [
            [
             0,
             "#0d0887"
            ],
            [
             0.1111111111111111,
             "#46039f"
            ],
            [
             0.2222222222222222,
             "#7201a8"
            ],
            [
             0.3333333333333333,
             "#9c179e"
            ],
            [
             0.4444444444444444,
             "#bd3786"
            ],
            [
             0.5555555555555556,
             "#d8576b"
            ],
            [
             0.6666666666666666,
             "#ed7953"
            ],
            [
             0.7777777777777778,
             "#fb9f3a"
            ],
            [
             0.8888888888888888,
             "#fdca26"
            ],
            [
             1,
             "#f0f921"
            ]
           ]
          },
          "colorway": [
           "#636efa",
           "#EF553B",
           "#00cc96",
           "#ab63fa",
           "#FFA15A",
           "#19d3f3",
           "#FF6692",
           "#B6E880",
           "#FF97FF",
           "#FECB52"
          ],
          "font": {
           "color": "#2a3f5f"
          },
          "geo": {
           "bgcolor": "white",
           "lakecolor": "white",
           "landcolor": "#E5ECF6",
           "showlakes": true,
           "showland": true,
           "subunitcolor": "white"
          },
          "hoverlabel": {
           "align": "left"
          },
          "hovermode": "closest",
          "mapbox": {
           "style": "light"
          },
          "paper_bgcolor": "white",
          "plot_bgcolor": "#E5ECF6",
          "polar": {
           "angularaxis": {
            "gridcolor": "white",
            "linecolor": "white",
            "ticks": ""
           },
           "bgcolor": "#E5ECF6",
           "radialaxis": {
            "gridcolor": "white",
            "linecolor": "white",
            "ticks": ""
           }
          },
          "scene": {
           "xaxis": {
            "backgroundcolor": "#E5ECF6",
            "gridcolor": "white",
            "gridwidth": 2,
            "linecolor": "white",
            "showbackground": true,
            "ticks": "",
            "zerolinecolor": "white"
           },
           "yaxis": {
            "backgroundcolor": "#E5ECF6",
            "gridcolor": "white",
            "gridwidth": 2,
            "linecolor": "white",
            "showbackground": true,
            "ticks": "",
            "zerolinecolor": "white"
           },
           "zaxis": {
            "backgroundcolor": "#E5ECF6",
            "gridcolor": "white",
            "gridwidth": 2,
            "linecolor": "white",
            "showbackground": true,
            "ticks": "",
            "zerolinecolor": "white"
           }
          },
          "shapedefaults": {
           "line": {
            "color": "#2a3f5f"
           }
          },
          "ternary": {
           "aaxis": {
            "gridcolor": "white",
            "linecolor": "white",
            "ticks": ""
           },
           "baxis": {
            "gridcolor": "white",
            "linecolor": "white",
            "ticks": ""
           },
           "bgcolor": "#E5ECF6",
           "caxis": {
            "gridcolor": "white",
            "linecolor": "white",
            "ticks": ""
           }
          },
          "title": {
           "x": 0.05
          },
          "xaxis": {
           "automargin": true,
           "gridcolor": "white",
           "linecolor": "white",
           "ticks": "",
           "title": {
            "standoff": 15
           },
           "zerolinecolor": "white",
           "zerolinewidth": 2
          },
          "yaxis": {
           "automargin": true,
           "gridcolor": "white",
           "linecolor": "white",
           "ticks": "",
           "title": {
            "standoff": 15
           },
           "zerolinecolor": "white",
           "zerolinewidth": 2
          }
         }
        },
        "title": {
         "text": "DecisionTree Accuracy"
        },
        "xaxis": {
         "anchor": "y",
         "domain": [
          0,
          1
         ],
         "title": {
          "text": "maxdepth"
         }
        },
        "yaxis": {
         "anchor": "x",
         "domain": [
          0,
          1
         ],
         "title": {
          "text": "training_acc"
         }
        }
       }
      }
     },
     "metadata": {},
     "output_type": "display_data"
    }
   ],
   "source": [
    "training_scores= []\n",
    "for i in range(1,15):\n",
    "    a,b,c = gen_decision_tree_models(i)\n",
    "    training_scores.append([a,b,b])\n",
    "\n",
    "\n",
    "df=pd.DataFrame(training_scores,columns=['maxdepth','training_acc','test_acc'])\n",
    "\n",
    "import plotly.express as px\n",
    "\n",
    "fig = px.line(df, x=\"maxdepth\", y=\"training_acc\", title='DecisionTree Accuracy')\n",
    "fig.show()\n"
   ]
  },
  {
   "cell_type": "code",
   "execution_count": 82,
   "metadata": {},
   "outputs": [
    {
     "data": {
      "text/plain": [
       "[Text(0.5, 0.875, 'x[1] <= 54.5\\nentropy = 0.869\\nsamples = 919\\nvalue = [267, 652]'),\n",
       " Text(0.25, 0.625, 'x[1] <= 41.5\\nentropy = 0.442\\nsamples = 579\\nvalue = [53, 526]'),\n",
       " Text(0.125, 0.375, 'x[1] <= 34.5\\nentropy = 0.249\\nsamples = 385\\nvalue = [16, 369]'),\n",
       " Text(0.0625, 0.125, 'entropy = 0.189\\nsamples = 276\\nvalue = [8, 268]'),\n",
       " Text(0.1875, 0.125, 'entropy = 0.378\\nsamples = 109\\nvalue = [8, 101]'),\n",
       " Text(0.375, 0.375, 'x[0] <= 0.5\\nentropy = 0.703\\nsamples = 194\\nvalue = [37, 157]'),\n",
       " Text(0.3125, 0.125, 'entropy = 0.629\\nsamples = 76\\nvalue = [12, 64]'),\n",
       " Text(0.4375, 0.125, 'entropy = 0.745\\nsamples = 118\\nvalue = [25, 93]'),\n",
       " Text(0.75, 0.625, 'x[1] <= 67.5\\nentropy = 0.951\\nsamples = 340\\nvalue = [214, 126]'),\n",
       " Text(0.625, 0.375, 'x[1] <= 64.5\\nentropy = 0.992\\nsamples = 208\\nvalue = [93, 115]'),\n",
       " Text(0.5625, 0.125, 'entropy = 0.979\\nsamples = 166\\nvalue = [69, 97]'),\n",
       " Text(0.6875, 0.125, 'entropy = 0.985\\nsamples = 42\\nvalue = [24, 18]'),\n",
       " Text(0.875, 0.375, 'x[1] <= 74.5\\nentropy = 0.414\\nsamples = 132\\nvalue = [121, 11]'),\n",
       " Text(0.8125, 0.125, 'entropy = 0.564\\nsamples = 83\\nvalue = [72, 11]'),\n",
       " Text(0.9375, 0.125, 'entropy = 0.0\\nsamples = 49\\nvalue = [49, 0]')]"
      ]
     },
     "execution_count": 82,
     "metadata": {},
     "output_type": "execute_result"
    },
    {
     "data": {
      "image/png": "[encoded data removed]",
      "text/plain": [
       "<Figure size 640x480 with 1 Axes>"
      ]
     },
     "metadata": {},
     "output_type": "display_data"
    }
   ],
   "source": [
    "\n",
    "tree=DecisionTreeClassifier(criterion=\"entropy\",max_depth=3).fit(X_train, y_train)\n",
    "plot_tree(tree)"
   ]
  },
  {
   "cell_type": "code",
   "execution_count": 83,
   "metadata": {},
   "outputs": [
    {
     "data": {
      "text/plain": [
       "[Text(0.5431034482758621, 0.9, 'x[1] <= 54.5\\nentropy = 0.869\\nsamples = 919\\nvalue = [267, 652]'),\n",
       " Text(0.27586206896551724, 0.7, 'x[1] <= 41.5\\nentropy = 0.442\\nsamples = 579\\nvalue = [53, 526]'),\n",
       " Text(0.13793103448275862, 0.5, 'x[1] <= 34.5\\nentropy = 0.249\\nsamples = 385\\nvalue = [16, 369]'),\n",
       " Text(0.06896551724137931, 0.3, 'x[1] <= 21.5\\nentropy = 0.189\\nsamples = 276\\nvalue = [8, 268]'),\n",
       " Text(0.034482758620689655, 0.1, 'entropy = 0.365\\nsamples = 43\\nvalue = [3, 40]'),\n",
       " Text(0.10344827586206896, 0.1, 'entropy = 0.15\\nsamples = 233\\nvalue = [5, 228]'),\n",
       " Text(0.20689655172413793, 0.3, 'x[1] <= 40.5\\nentropy = 0.378\\nsamples = 109\\nvalue = [8, 101]'),\n",
       " Text(0.1724137931034483, 0.1, 'entropy = 0.42\\nsamples = 94\\nvalue = [8, 86]'),\n",
       " Text(0.2413793103448276, 0.1, 'entropy = 0.0\\nsamples = 15\\nvalue = [0, 15]'),\n",
       " Text(0.41379310344827586, 0.5, 'x[0] <= 0.5\\nentropy = 0.703\\nsamples = 194\\nvalue = [37, 157]'),\n",
       " Text(0.3448275862068966, 0.3, 'x[1] <= 42.5\\nentropy = 0.629\\nsamples = 76\\nvalue = [12, 64]'),\n",
       " Text(0.3103448275862069, 0.1, 'entropy = 0.0\\nsamples = 6\\nvalue = [0, 6]'),\n",
       " Text(0.3793103448275862, 0.1, 'entropy = 0.661\\nsamples = 70\\nvalue = [12, 58]'),\n",
       " Text(0.4827586206896552, 0.3, 'x[1] <= 53.5\\nentropy = 0.745\\nsamples = 118\\nvalue = [25, 93]'),\n",
       " Text(0.4482758620689655, 0.1, 'entropy = 0.77\\nsamples = 111\\nvalue = [25, 86]'),\n",
       " Text(0.5172413793103449, 0.1, 'entropy = 0.0\\nsamples = 7\\nvalue = [0, 7]'),\n",
       " Text(0.8103448275862069, 0.7, 'x[1] <= 67.5\\nentropy = 0.951\\nsamples = 340\\nvalue = [214, 126]'),\n",
       " Text(0.6896551724137931, 0.5, 'x[1] <= 64.5\\nentropy = 0.992\\nsamples = 208\\nvalue = [93, 115]'),\n",
       " Text(0.6206896551724138, 0.3, 'x[0] <= 0.5\\nentropy = 0.979\\nsamples = 166\\nvalue = [69, 97]'),\n",
       " Text(0.5862068965517241, 0.1, 'entropy = 0.933\\nsamples = 86\\nvalue = [30, 56]'),\n",
       " Text(0.6551724137931034, 0.1, 'entropy = 1.0\\nsamples = 80\\nvalue = [39, 41]'),\n",
       " Text(0.7586206896551724, 0.3, 'x[1] <= 66.5\\nentropy = 0.985\\nsamples = 42\\nvalue = [24, 18]'),\n",
       " Text(0.7241379310344828, 0.1, 'entropy = 0.951\\nsamples = 27\\nvalue = [17, 10]'),\n",
       " Text(0.7931034482758621, 0.1, 'entropy = 0.997\\nsamples = 15\\nvalue = [7, 8]'),\n",
       " Text(0.9310344827586207, 0.5, 'x[1] <= 74.5\\nentropy = 0.414\\nsamples = 132\\nvalue = [121, 11]'),\n",
       " Text(0.896551724137931, 0.3, 'x[1] <= 73.5\\nentropy = 0.564\\nsamples = 83\\nvalue = [72, 11]'),\n",
       " Text(0.8620689655172413, 0.1, 'entropy = 0.364\\nsamples = 72\\nvalue = [67, 5]'),\n",
       " Text(0.9310344827586207, 0.1, 'entropy = 0.994\\nsamples = 11\\nvalue = [5, 6]'),\n",
       " Text(0.9655172413793104, 0.3, 'entropy = 0.0\\nsamples = 49\\nvalue = [49, 0]')]"
      ]
     },
     "execution_count": 83,
     "metadata": {},
     "output_type": "execute_result"
    },
    {
     "data": {
      "image/png": "[encoded data removed]",
      "text/plain": [
       "<Figure size 640x480 with 1 Axes>"
      ]
     },
     "metadata": {},
     "output_type": "display_data"
    }
   ],
   "source": [
    "tree=DecisionTreeClassifier(criterion=\"entropy\",max_depth=4).fit(X_train, y_train)\n",
    "plot_tree(tree)"
   ]
  },
  {
   "cell_type": "code",
   "execution_count": 84,
   "metadata": {},
   "outputs": [
    {
     "data": {
      "text/plain": [
       "[Text(0.5353260869565217, 0.9166666666666666, 'x[1] <= 54.5\\nentropy = 0.869\\nsamples = 919\\nvalue = [267, 652]'),\n",
       " Text(0.27717391304347827, 0.75, 'x[1] <= 41.5\\nentropy = 0.442\\nsamples = 579\\nvalue = [53, 526]'),\n",
       " Text(0.16304347826086957, 0.5833333333333334, 'x[1] <= 34.5\\nentropy = 0.249\\nsamples = 385\\nvalue = [16, 369]'),\n",
       " Text(0.08695652173913043, 0.4166666666666667, 'x[1] <= 21.5\\nentropy = 0.189\\nsamples = 276\\nvalue = [8, 268]'),\n",
       " Text(0.043478260869565216, 0.25, 'x[1] <= 19.5\\nentropy = 0.365\\nsamples = 43\\nvalue = [3, 40]'),\n",
       " Text(0.021739130434782608, 0.08333333333333333, 'entropy = 0.267\\nsamples = 22\\nvalue = [1, 21]'),\n",
       " Text(0.06521739130434782, 0.08333333333333333, 'entropy = 0.454\\nsamples = 21\\nvalue = [2, 19]'),\n",
       " Text(0.13043478260869565, 0.25, 'x[1] <= 26.5\\nentropy = 0.15\\nsamples = 233\\nvalue = [5, 228]'),\n",
       " Text(0.10869565217391304, 0.08333333333333333, 'entropy = 0.0\\nsamples = 76\\nvalue = [0, 76]'),\n",
       " Text(0.15217391304347827, 0.08333333333333333, 'entropy = 0.204\\nsamples = 157\\nvalue = [5, 152]'),\n",
       " Text(0.2391304347826087, 0.4166666666666667, 'x[1] <= 40.5\\nentropy = 0.378\\nsamples = 109\\nvalue = [8, 101]'),\n",
       " Text(0.21739130434782608, 0.25, 'x[1] <= 36.5\\nentropy = 0.42\\nsamples = 94\\nvalue = [8, 86]'),\n",
       " Text(0.1956521739130435, 0.08333333333333333, 'entropy = 0.503\\nsamples = 36\\nvalue = [4, 32]'),\n",
       " Text(0.2391304347826087, 0.08333333333333333, 'entropy = 0.362\\nsamples = 58\\nvalue = [4, 54]'),\n",
       " Text(0.2608695652173913, 0.25, 'entropy = 0.0\\nsamples = 15\\nvalue = [0, 15]'),\n",
       " Text(0.391304347826087, 0.5833333333333334, 'x[0] <= 0.5\\nentropy = 0.703\\nsamples = 194\\nvalue = [37, 157]'),\n",
       " Text(0.32608695652173914, 0.4166666666666667, 'x[1] <= 42.5\\nentropy = 0.629\\nsamples = 76\\nvalue = [12, 64]'),\n",
       " Text(0.30434782608695654, 0.25, 'entropy = 0.0\\nsamples = 6\\nvalue = [0, 6]'),\n",
       " Text(0.34782608695652173, 0.25, 'x[1] <= 49.5\\nentropy = 0.661\\nsamples = 70\\nvalue = [12, 58]'),\n",
       " Text(0.32608695652173914, 0.08333333333333333, 'entropy = 0.731\\nsamples = 44\\nvalue = [9, 35]'),\n",
       " Text(0.3695652173913043, 0.08333333333333333, 'entropy = 0.516\\nsamples = 26\\nvalue = [3, 23]'),\n",
       " Text(0.45652173913043476, 0.4166666666666667, 'x[1] <= 53.5\\nentropy = 0.745\\nsamples = 118\\nvalue = [25, 93]'),\n",
       " Text(0.43478260869565216, 0.25, 'x[1] <= 50.5\\nentropy = 0.77\\nsamples = 111\\nvalue = [25, 86]'),\n",
       " Text(0.41304347826086957, 0.08333333333333333, 'entropy = 0.702\\nsamples = 84\\nvalue = [16, 68]'),\n",
       " Text(0.45652173913043476, 0.08333333333333333, 'entropy = 0.918\\nsamples = 27\\nvalue = [9, 18]'),\n",
       " Text(0.4782608695652174, 0.25, 'entropy = 0.0\\nsamples = 7\\nvalue = [0, 7]'),\n",
       " Text(0.7934782608695652, 0.75, 'x[1] <= 67.5\\nentropy = 0.951\\nsamples = 340\\nvalue = [214, 126]'),\n",
       " Text(0.6521739130434783, 0.5833333333333334, 'x[1] <= 64.5\\nentropy = 0.992\\nsamples = 208\\nvalue = [93, 115]'),\n",
       " Text(0.5652173913043478, 0.4166666666666667, 'x[0] <= 0.5\\nentropy = 0.979\\nsamples = 166\\nvalue = [69, 97]'),\n",
       " Text(0.5217391304347826, 0.25, 'x[1] <= 62.5\\nentropy = 0.933\\nsamples = 86\\nvalue = [30, 56]'),\n",
       " Text(0.5, 0.08333333333333333, 'entropy = 0.961\\nsamples = 65\\nvalue = [25, 40]'),\n",
       " Text(0.5434782608695652, 0.08333333333333333, 'entropy = 0.792\\nsamples = 21\\nvalue = [5, 16]'),\n",
       " Text(0.6086956521739131, 0.25, 'x[1] <= 63.5\\nentropy = 1.0\\nsamples = 80\\nvalue = [39, 41]'),\n",
       " Text(0.5869565217391305, 0.08333333333333333, 'entropy = 1.0\\nsamples = 73\\nvalue = [37, 36]'),\n",
       " Text(0.6304347826086957, 0.08333333333333333, 'entropy = 0.863\\nsamples = 7\\nvalue = [2, 5]'),\n",
       " Text(0.7391304347826086, 0.4166666666666667, 'x[1] <= 66.5\\nentropy = 0.985\\nsamples = 42\\nvalue = [24, 18]'),\n",
       " Text(0.6956521739130435, 0.25, 'x[0] <= 0.5\\nentropy = 0.951\\nsamples = 27\\nvalue = [17, 10]'),\n",
       " Text(0.6739130434782609, 0.08333333333333333, 'entropy = 0.985\\nsamples = 21\\nvalue = [12, 9]'),\n",
       " Text(0.717391304347826, 0.08333333333333333, 'entropy = 0.65\\nsamples = 6\\nvalue = [5, 1]'),\n",
       " Text(0.782608695652174, 0.25, 'x[0] <= 0.5\\nentropy = 0.997\\nsamples = 15\\nvalue = [7, 8]'),\n",
       " Text(0.7608695652173914, 0.08333333333333333, 'entropy = 1.0\\nsamples = 12\\nvalue = [6, 6]'),\n",
       " Text(0.8043478260869565, 0.08333333333333333, 'entropy = 0.918\\nsamples = 3\\nvalue = [1, 2]'),\n",
       " Text(0.9347826086956522, 0.5833333333333334, 'x[1] <= 74.5\\nentropy = 0.414\\nsamples = 132\\nvalue = [121, 11]'),\n",
       " Text(0.9130434782608695, 0.4166666666666667, 'x[1] <= 73.5\\nentropy = 0.564\\nsamples = 83\\nvalue = [72, 11]'),\n",
       " Text(0.8695652173913043, 0.25, 'x[0] <= 0.5\\nentropy = 0.364\\nsamples = 72\\nvalue = [67, 5]'),\n",
       " Text(0.8478260869565217, 0.08333333333333333, 'entropy = 0.445\\nsamples = 54\\nvalue = [49, 5]'),\n",
       " Text(0.8913043478260869, 0.08333333333333333, 'entropy = 0.0\\nsamples = 18\\nvalue = [18, 0]'),\n",
       " Text(0.9565217391304348, 0.25, 'x[0] <= 0.5\\nentropy = 0.994\\nsamples = 11\\nvalue = [5, 6]'),\n",
       " Text(0.9347826086956522, 0.08333333333333333, 'entropy = 1.0\\nsamples = 8\\nvalue = [4, 4]'),\n",
       " Text(0.9782608695652174, 0.08333333333333333, 'entropy = 0.918\\nsamples = 3\\nvalue = [1, 2]'),\n",
       " Text(0.9565217391304348, 0.4166666666666667, 'entropy = 0.0\\nsamples = 49\\nvalue = [49, 0]')]"
      ]
     },
     "execution_count": 84,
     "metadata": {},
     "output_type": "execute_result"
    },
    {
     "data": {
      "image/png": "[encoded data removed]",
      "text/plain": [
       "<Figure size 640x480 with 1 Axes>"
      ]
     },
     "metadata": {},
     "output_type": "display_data"
    }
   ],
   "source": [
    "tree=DecisionTreeClassifier(criterion=\"entropy\",max_depth=5).fit(X_train, y_train)\n",
    "plot_tree(tree)"
   ]
  }
 ],
 "metadata": {
  "kernelspec": {
   "display_name": "Python 3",
   "language": "python",
   "name": "python3"
  },
  "language_info": {
   "codemirror_mode": {
    "name": "ipython",
    "version": 3
   },
   "file_extension": ".py",
   "mimetype": "text/x-python",
   "name": "python",
   "nbconvert_exporter": "python",
   "pygments_lexer": "ipython3",
   "version": "3.11.5"
  }
 },
 "nbformat": 4,
 "nbformat_minor": 4
}
