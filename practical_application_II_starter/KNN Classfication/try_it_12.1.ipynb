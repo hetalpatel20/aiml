{
 "cells": [
  {
   "cell_type": "markdown",
   "metadata": {},
   "source": [
    "### Choosing the Right Metric\n",
    "\n",
    "\n",
    "<center>\n",
    "    <img src = 'images/uci_biz.png'/>\n",
    "</center>\n",
    "\n",
    "\n",
    "This module introduced both the K Nearest Neighbors model as well as a variety of different metrics for classification.  It is important to select and understand the appropriate metric for your task.  This exercise is meant to get practice considering the difference between these new classification metrics and accompanying evaluation tools. Specifically, explore datasets related to business from the UCI Machine Learning Repository [here](https://archive-beta.ics.uci.edu/ml/datasets?f%5Barea%5D%5B0%5D=business&p%5Boffset%5D=0&p%5Blimit%5D=10&p%5BorderBy%5D=NumHits&p%5Border%5D=desc&p%5BStatus%5D=APPROVED).  \n",
    "\n",
    "Select a dataset of interest and clearly state the classification task.  Specifically, describe a business problem that could be solved using the dataset and a KNN classification model.  Further, identify what you believe to be the appropriate metric and justify your choice.  Build a basic model with the `KNearestNeighbor` and grid search to optimize towards your chosen metric.  Share your results with your peers."
   ]
  },
  {
   "cell_type": "code",
   "execution_count": 1,
   "metadata": {},
   "outputs": [
    {
     "name": "stdout",
     "output_type": "stream",
     "text": [
      "<class 'pandas.core.frame.DataFrame'>\n",
      "Index: 356 entries, 0 to 177\n",
      "Data columns (total 14 columns):\n",
      " #   Column                        Non-Null Count  Dtype  \n",
      "---  ------                        --------------  -----  \n",
      " 0   class                         178 non-null    float64\n",
      " 1   Alcohol                       178 non-null    float64\n",
      " 2   Malicacid                     178 non-null    float64\n",
      " 3   Ash                           178 non-null    float64\n",
      " 4   Alcalinity_of_ash             178 non-null    float64\n",
      " 5   Magnesium                     178 non-null    float64\n",
      " 6   Total_phenols                 178 non-null    float64\n",
      " 7   Flavanoids                    178 non-null    float64\n",
      " 8   Nonflavanoid_phenols          178 non-null    float64\n",
      " 9   Proanthocyanins               178 non-null    float64\n",
      " 10  Color_intensity               178 non-null    float64\n",
      " 11  Hue                           178 non-null    float64\n",
      " 12  0D280_0D315_of_diluted_wines  178 non-null    float64\n",
      " 13  Proline                       178 non-null    float64\n",
      "dtypes: float64(14)\n",
      "memory usage: 41.7 KB\n"
     ]
    }
   ],
   "source": [
    "from ucimlrepo import fetch_ucirepo \n",
    "import pandas as pd\n",
    "import numpy as np\n",
    "import matplotlib.pyplot as plt\n",
    "import seaborn as sns\n",
    "from sklearn.neighbors import KNeighborsClassifier\n",
    "from sklearn.neighbors import KNeighborsRegressor\n",
    "from sklearn.impute import KNNImputer\n",
    "from sklearn.preprocessing import StandardScaler, OneHotEncoder\n",
    "from sklearn.pipeline import Pipeline\n",
    "from sklearn.compose import make_column_transformer\n",
    "from sklearn.metrics import mean_squared_error\n",
    "from sklearn.model_selection import train_test_split, GridSearchCV\n",
    "from sklearn.metrics import accuracy_score, recall_score, precision_score\n",
    "from sklearn.metrics import classification_report, confusion_matrix, accuracy_score\n",
    "from sklearn import set_config\n",
    "set_config(\"figure\")\n",
    "import plotly.graph_objects as go\n",
    "  \n",
    "# fetch dataset \n",
    "wine = fetch_ucirepo(id=109) \n",
    "  \n",
    "# data (as pandas dataframes) \n",
    "X = wine.data.features \n",
    "y = wine.data.targets \n",
    "\n",
    "X.head(10)\n",
    "\n",
    "combine = pd.concat([y,X], axis=0)\n",
    "\n",
    "combine.info()\n",
    "\n"
   ]
  },
  {
   "cell_type": "code",
   "execution_count": 2,
   "metadata": {},
   "outputs": [
    {
     "data": {
      "text/plain": [
       "{'ids': None,\n",
       " 'features':      Alcohol  Malicacid   Ash  Alcalinity_of_ash  Magnesium  Total_phenols  \\\n",
       " 0      14.23       1.71  2.43               15.6        127           2.80   \n",
       " 1      13.20       1.78  2.14               11.2        100           2.65   \n",
       " 2      13.16       2.36  2.67               18.6        101           2.80   \n",
       " 3      14.37       1.95  2.50               16.8        113           3.85   \n",
       " 4      13.24       2.59  2.87               21.0        118           2.80   \n",
       " ..       ...        ...   ...                ...        ...            ...   \n",
       " 173    13.71       5.65  2.45               20.5         95           1.68   \n",
       " 174    13.40       3.91  2.48               23.0        102           1.80   \n",
       " 175    13.27       4.28  2.26               20.0        120           1.59   \n",
       " 176    13.17       2.59  2.37               20.0        120           1.65   \n",
       " 177    14.13       4.10  2.74               24.5         96           2.05   \n",
       " \n",
       "      Flavanoids  Nonflavanoid_phenols  Proanthocyanins  Color_intensity   Hue  \\\n",
       " 0          3.06                  0.28             2.29             5.64  1.04   \n",
       " 1          2.76                  0.26             1.28             4.38  1.05   \n",
       " 2          3.24                  0.30             2.81             5.68  1.03   \n",
       " 3          3.49                  0.24             2.18             7.80  0.86   \n",
       " 4          2.69                  0.39             1.82             4.32  1.04   \n",
       " ..          ...                   ...              ...              ...   ...   \n",
       " 173        0.61                  0.52             1.06             7.70  0.64   \n",
       " 174        0.75                  0.43             1.41             7.30  0.70   \n",
       " 175        0.69                  0.43             1.35            10.20  0.59   \n",
       " 176        0.68                  0.53             1.46             9.30  0.60   \n",
       " 177        0.76                  0.56             1.35             9.20  0.61   \n",
       " \n",
       "      0D280_0D315_of_diluted_wines  Proline  \n",
       " 0                            3.92     1065  \n",
       " 1                            3.40     1050  \n",
       " 2                            3.17     1185  \n",
       " 3                            3.45     1480  \n",
       " 4                            2.93      735  \n",
       " ..                            ...      ...  \n",
       " 173                          1.74      740  \n",
       " 174                          1.56      750  \n",
       " 175                          1.56      835  \n",
       " 176                          1.62      840  \n",
       " 177                          1.60      560  \n",
       " \n",
       " [178 rows x 13 columns],\n",
       " 'targets':      class\n",
       " 0        1\n",
       " 1        1\n",
       " 2        1\n",
       " 3        1\n",
       " 4        1\n",
       " ..     ...\n",
       " 173      3\n",
       " 174      3\n",
       " 175      3\n",
       " 176      3\n",
       " 177      3\n",
       " \n",
       " [178 rows x 1 columns],\n",
       " 'original':      Alcohol  Malicacid   Ash  Alcalinity_of_ash  Magnesium  Total_phenols  \\\n",
       " 0      14.23       1.71  2.43               15.6        127           2.80   \n",
       " 1      13.20       1.78  2.14               11.2        100           2.65   \n",
       " 2      13.16       2.36  2.67               18.6        101           2.80   \n",
       " 3      14.37       1.95  2.50               16.8        113           3.85   \n",
       " 4      13.24       2.59  2.87               21.0        118           2.80   \n",
       " ..       ...        ...   ...                ...        ...            ...   \n",
       " 173    13.71       5.65  2.45               20.5         95           1.68   \n",
       " 174    13.40       3.91  2.48               23.0        102           1.80   \n",
       " 175    13.27       4.28  2.26               20.0        120           1.59   \n",
       " 176    13.17       2.59  2.37               20.0        120           1.65   \n",
       " 177    14.13       4.10  2.74               24.5         96           2.05   \n",
       " \n",
       "      Flavanoids  Nonflavanoid_phenols  Proanthocyanins  Color_intensity   Hue  \\\n",
       " 0          3.06                  0.28             2.29             5.64  1.04   \n",
       " 1          2.76                  0.26             1.28             4.38  1.05   \n",
       " 2          3.24                  0.30             2.81             5.68  1.03   \n",
       " 3          3.49                  0.24             2.18             7.80  0.86   \n",
       " 4          2.69                  0.39             1.82             4.32  1.04   \n",
       " ..          ...                   ...              ...              ...   ...   \n",
       " 173        0.61                  0.52             1.06             7.70  0.64   \n",
       " 174        0.75                  0.43             1.41             7.30  0.70   \n",
       " 175        0.69                  0.43             1.35            10.20  0.59   \n",
       " 176        0.68                  0.53             1.46             9.30  0.60   \n",
       " 177        0.76                  0.56             1.35             9.20  0.61   \n",
       " \n",
       "      0D280_0D315_of_diluted_wines  Proline  class  \n",
       " 0                            3.92     1065      1  \n",
       " 1                            3.40     1050      1  \n",
       " 2                            3.17     1185      1  \n",
       " 3                            3.45     1480      1  \n",
       " 4                            2.93      735      1  \n",
       " ..                            ...      ...    ...  \n",
       " 173                          1.74      740      3  \n",
       " 174                          1.56      750      3  \n",
       " 175                          1.56      835      3  \n",
       " 176                          1.62      840      3  \n",
       " 177                          1.60      560      3  \n",
       " \n",
       " [178 rows x 14 columns],\n",
       " 'headers': Index(['Alcohol', 'Malicacid', 'Ash', 'Alcalinity_of_ash', 'Magnesium',\n",
       "        'Total_phenols', 'Flavanoids', 'Nonflavanoid_phenols',\n",
       "        'Proanthocyanins', 'Color_intensity', 'Hue',\n",
       "        '0D280_0D315_of_diluted_wines', 'Proline', 'class'],\n",
       "       dtype='object')}"
      ]
     },
     "execution_count": 2,
     "metadata": {},
     "output_type": "execute_result"
    }
   ],
   "source": [
    "wine.data"
   ]
  },
  {
   "cell_type": "markdown",
   "metadata": {},
   "source": [
    "### Step 1. Split train test dataset"
   ]
  },
  {
   "cell_type": "code",
   "execution_count": 3,
   "metadata": {},
   "outputs": [],
   "source": [
    "\n",
    "X_train, X_test, y_train, y_test = train_test_split(X,y,\n",
    "                                                   random_state=42,\n",
    "                                                   stratify = y)\n",
    "\n"
   ]
  },
  {
   "cell_type": "markdown",
   "metadata": {},
   "source": [
    "### Step 2. Baseline of classifier\n",
    "\n",
    "    \n",
    "Before starting the modeling process, you should have a baseline to determine whether your model is any good.  For your classifier, consider a baseline model as one in which you always guess the most frequently occurring class.  For this model baseline class has 3 states and class=2 is the highest occuring class. test data very well represnt overall data classifiers.\n",
    "\n",
    "    overall class\n",
    "    2        0.398876\n",
    "    1        0.331461\n",
    "    3        0.269663\n",
    "\n",
    "    test data class\n",
    "    2        0.400000\n",
    "    1        0.333333\n",
    "    3        0.266667"
   ]
  },
  {
   "cell_type": "code",
   "execution_count": 4,
   "metadata": {},
   "outputs": [
    {
     "name": "stdout",
     "output_type": "stream",
     "text": [
      "class\n",
      "2        0.398876\n",
      "1        0.331461\n",
      "3        0.269663\n",
      "Name: proportion, dtype: float64\n",
      "class\n",
      "2        0.400000\n",
      "1        0.333333\n",
      "3        0.266667\n",
      "Name: proportion, dtype: float64\n"
     ]
    },
    {
     "data": {
      "image/png": "[encoded data removed]",
      "text/plain": [
       "<Figure size 640x480 with 1 Axes>"
      ]
     },
     "metadata": {},
     "output_type": "display_data"
    }
   ],
   "source": [
    "sns.countplot(data=y, x = 'class')\n",
    "plt.title('Count of target observations')\n",
    "\n",
    "baseline = y.value_counts(normalize = True)\n",
    "print(baseline)\n",
    "\n",
    "test_baseline = y_test.value_counts(normalize = True)\n",
    "print(test_baseline)"
   ]
  },
  {
   "cell_type": "markdown",
   "metadata": {},
   "source": [
    "###  Step 3 build pipeline\n",
    "\n",
    "Accuracy of this model at K_neighbours = 5 is 0.933 and n_neighbours=50 accuracy went up to 0.95.\n"
   ]
  },
  {
   "cell_type": "code",
   "execution_count": 5,
   "metadata": {},
   "outputs": [
    {
     "name": "stdout",
     "output_type": "stream",
     "text": [
      "1.0\n"
     ]
    },
    {
     "name": "stderr",
     "output_type": "stream",
     "text": [
      "/Users/hetalpatel/miniconda3/envs/aiml/lib/python3.11/site-packages/sklearn/neighbors/_classification.py:215: DataConversionWarning: A column-vector y was passed when a 1d array was expected. Please change the shape of y to (n_samples,), for example using ravel().\n",
      "  return self._fit(X, y)\n"
     ]
    }
   ],
   "source": [
    "knn_pipe = Pipeline([('scaler',StandardScaler()), ('knn', KNeighborsClassifier(n_neighbors=15))])\n",
    "knn_pipe.fit(X_train, y_train)\n",
    "knn_pipe_acc = knn_pipe.score(X_test, y_test)\n",
    "print(knn_pipe_acc)\n"
   ]
  },
  {
   "cell_type": "code",
   "execution_count": 6,
   "metadata": {},
   "outputs": [
    {
     "name": "stdout",
     "output_type": "stream",
     "text": [
      "0.9555555555555556\n"
     ]
    },
    {
     "name": "stderr",
     "output_type": "stream",
     "text": [
      "/Users/hetalpatel/miniconda3/envs/aiml/lib/python3.11/site-packages/sklearn/neighbors/_classification.py:215: DataConversionWarning: A column-vector y was passed when a 1d array was expected. Please change the shape of y to (n_samples,), for example using ravel().\n",
      "  return self._fit(X, y)\n"
     ]
    }
   ],
   "source": [
    "knn_pipe = Pipeline([('scaler',StandardScaler()), ('knn', KNeighborsClassifier(n_neighbors=50))])\n",
    "knn_pipe.fit(X_train, y_train)\n",
    "knn_pipe_acc = knn_pipe.score(X_test, y_test)\n",
    "print(knn_pipe_acc)"
   ]
  },
  {
   "cell_type": "code",
   "execution_count": 7,
   "metadata": {},
   "outputs": [
    {
     "name": "stdout",
     "output_type": "stream",
     "text": [
      "0.9333333333333333\n"
     ]
    },
    {
     "name": "stderr",
     "output_type": "stream",
     "text": [
      "/Users/hetalpatel/miniconda3/envs/aiml/lib/python3.11/site-packages/sklearn/neighbors/_classification.py:215: DataConversionWarning: A column-vector y was passed when a 1d array was expected. Please change the shape of y to (n_samples,), for example using ravel().\n",
      "  return self._fit(X, y)\n"
     ]
    }
   ],
   "source": [
    "knn_pipe = Pipeline([('scaler',StandardScaler()), ('knn', KNeighborsClassifier(n_neighbors=5))])\n",
    "knn_pipe.fit(X_train, y_train)\n",
    "knn_pipe_acc = knn_pipe.score(X_test, y_test)\n",
    "print(knn_pipe_acc)"
   ]
  },
  {
   "cell_type": "markdown",
   "metadata": {},
   "source": [
    "### Step 4 find best K using GridSearchCV\n",
    "\n",
    "For best K = 15 we get the accuracy of 1.,0"
   ]
  },
  {
   "cell_type": "code",
   "execution_count": 8,
   "metadata": {},
   "outputs": [
    {
     "name": "stderr",
     "output_type": "stream",
     "text": [
      "/Users/hetalpatel/miniconda3/envs/aiml/lib/python3.11/site-packages/sklearn/neighbors/_classification.py:215: DataConversionWarning: A column-vector y was passed when a 1d array was expected. Please change the shape of y to (n_samples,), for example using ravel().\n",
      "  return self._fit(X, y)\n",
      "/Users/hetalpatel/miniconda3/envs/aiml/lib/python3.11/site-packages/sklearn/neighbors/_classification.py:215: DataConversionWarning: A column-vector y was passed when a 1d array was expected. Please change the shape of y to (n_samples,), for example using ravel().\n",
      "  return self._fit(X, y)\n",
      "/Users/hetalpatel/miniconda3/envs/aiml/lib/python3.11/site-packages/sklearn/neighbors/_classification.py:215: DataConversionWarning: A column-vector y was passed when a 1d array was expected. Please change the shape of y to (n_samples,), for example using ravel().\n",
      "  return self._fit(X, y)\n",
      "/Users/hetalpatel/miniconda3/envs/aiml/lib/python3.11/site-packages/sklearn/neighbors/_classification.py:215: DataConversionWarning: A column-vector y was passed when a 1d array was expected. Please change the shape of y to (n_samples,), for example using ravel().\n",
      "  return self._fit(X, y)\n",
      "/Users/hetalpatel/miniconda3/envs/aiml/lib/python3.11/site-packages/sklearn/neighbors/_classification.py:215: DataConversionWarning: A column-vector y was passed when a 1d array was expected. Please change the shape of y to (n_samples,), for example using ravel().\n",
      "  return self._fit(X, y)\n",
      "/Users/hetalpatel/miniconda3/envs/aiml/lib/python3.11/site-packages/sklearn/neighbors/_classification.py:215: DataConversionWarning: A column-vector y was passed when a 1d array was expected. Please change the shape of y to (n_samples,), for example using ravel().\n",
      "  return self._fit(X, y)\n",
      "/Users/hetalpatel/miniconda3/envs/aiml/lib/python3.11/site-packages/sklearn/neighbors/_classification.py:215: DataConversionWarning: A column-vector y was passed when a 1d array was expected. Please change the shape of y to (n_samples,), for example using ravel().\n",
      "  return self._fit(X, y)\n",
      "/Users/hetalpatel/miniconda3/envs/aiml/lib/python3.11/site-packages/sklearn/neighbors/_classification.py:215: DataConversionWarning: A column-vector y was passed when a 1d array was expected. Please change the shape of y to (n_samples,), for example using ravel().\n",
      "  return self._fit(X, y)\n",
      "/Users/hetalpatel/miniconda3/envs/aiml/lib/python3.11/site-packages/sklearn/neighbors/_classification.py:215: DataConversionWarning: A column-vector y was passed when a 1d array was expected. Please change the shape of y to (n_samples,), for example using ravel().\n",
      "  return self._fit(X, y)\n",
      "/Users/hetalpatel/miniconda3/envs/aiml/lib/python3.11/site-packages/sklearn/neighbors/_classification.py:215: DataConversionWarning: A column-vector y was passed when a 1d array was expected. Please change the shape of y to (n_samples,), for example using ravel().\n",
      "  return self._fit(X, y)\n",
      "/Users/hetalpatel/miniconda3/envs/aiml/lib/python3.11/site-packages/sklearn/neighbors/_classification.py:215: DataConversionWarning: A column-vector y was passed when a 1d array was expected. Please change the shape of y to (n_samples,), for example using ravel().\n",
      "  return self._fit(X, y)\n",
      "/Users/hetalpatel/miniconda3/envs/aiml/lib/python3.11/site-packages/sklearn/neighbors/_classification.py:215: DataConversionWarning: A column-vector y was passed when a 1d array was expected. Please change the shape of y to (n_samples,), for example using ravel().\n",
      "  return self._fit(X, y)\n",
      "/Users/hetalpatel/miniconda3/envs/aiml/lib/python3.11/site-packages/sklearn/neighbors/_classification.py:215: DataConversionWarning: A column-vector y was passed when a 1d array was expected. Please change the shape of y to (n_samples,), for example using ravel().\n",
      "  return self._fit(X, y)\n",
      "/Users/hetalpatel/miniconda3/envs/aiml/lib/python3.11/site-packages/sklearn/neighbors/_classification.py:215: DataConversionWarning: A column-vector y was passed when a 1d array was expected. Please change the shape of y to (n_samples,), for example using ravel().\n",
      "  return self._fit(X, y)\n",
      "/Users/hetalpatel/miniconda3/envs/aiml/lib/python3.11/site-packages/sklearn/neighbors/_classification.py:215: DataConversionWarning: A column-vector y was passed when a 1d array was expected. Please change the shape of y to (n_samples,), for example using ravel().\n",
      "  return self._fit(X, y)\n",
      "/Users/hetalpatel/miniconda3/envs/aiml/lib/python3.11/site-packages/sklearn/neighbors/_classification.py:215: DataConversionWarning: A column-vector y was passed when a 1d array was expected. Please change the shape of y to (n_samples,), for example using ravel().\n",
      "  return self._fit(X, y)\n",
      "/Users/hetalpatel/miniconda3/envs/aiml/lib/python3.11/site-packages/sklearn/neighbors/_classification.py:215: DataConversionWarning: A column-vector y was passed when a 1d array was expected. Please change the shape of y to (n_samples,), for example using ravel().\n",
      "  return self._fit(X, y)\n",
      "/Users/hetalpatel/miniconda3/envs/aiml/lib/python3.11/site-packages/sklearn/neighbors/_classification.py:215: DataConversionWarning: A column-vector y was passed when a 1d array was expected. Please change the shape of y to (n_samples,), for example using ravel().\n",
      "  return self._fit(X, y)\n",
      "/Users/hetalpatel/miniconda3/envs/aiml/lib/python3.11/site-packages/sklearn/neighbors/_classification.py:215: DataConversionWarning: A column-vector y was passed when a 1d array was expected. Please change the shape of y to (n_samples,), for example using ravel().\n",
      "  return self._fit(X, y)\n",
      "/Users/hetalpatel/miniconda3/envs/aiml/lib/python3.11/site-packages/sklearn/neighbors/_classification.py:215: DataConversionWarning: A column-vector y was passed when a 1d array was expected. Please change the shape of y to (n_samples,), for example using ravel().\n",
      "  return self._fit(X, y)\n",
      "/Users/hetalpatel/miniconda3/envs/aiml/lib/python3.11/site-packages/sklearn/neighbors/_classification.py:215: DataConversionWarning: A column-vector y was passed when a 1d array was expected. Please change the shape of y to (n_samples,), for example using ravel().\n",
      "  return self._fit(X, y)\n",
      "/Users/hetalpatel/miniconda3/envs/aiml/lib/python3.11/site-packages/sklearn/neighbors/_classification.py:215: DataConversionWarning: A column-vector y was passed when a 1d array was expected. Please change the shape of y to (n_samples,), for example using ravel().\n",
      "  return self._fit(X, y)\n",
      "/Users/hetalpatel/miniconda3/envs/aiml/lib/python3.11/site-packages/sklearn/neighbors/_classification.py:215: DataConversionWarning: A column-vector y was passed when a 1d array was expected. Please change the shape of y to (n_samples,), for example using ravel().\n",
      "  return self._fit(X, y)\n",
      "/Users/hetalpatel/miniconda3/envs/aiml/lib/python3.11/site-packages/sklearn/neighbors/_classification.py:215: DataConversionWarning: A column-vector y was passed when a 1d array was expected. Please change the shape of y to (n_samples,), for example using ravel().\n",
      "  return self._fit(X, y)\n",
      "/Users/hetalpatel/miniconda3/envs/aiml/lib/python3.11/site-packages/sklearn/neighbors/_classification.py:215: DataConversionWarning: A column-vector y was passed when a 1d array was expected. Please change the shape of y to (n_samples,), for example using ravel().\n",
      "  return self._fit(X, y)\n",
      "/Users/hetalpatel/miniconda3/envs/aiml/lib/python3.11/site-packages/sklearn/neighbors/_classification.py:215: DataConversionWarning: A column-vector y was passed when a 1d array was expected. Please change the shape of y to (n_samples,), for example using ravel().\n",
      "  return self._fit(X, y)\n",
      "/Users/hetalpatel/miniconda3/envs/aiml/lib/python3.11/site-packages/sklearn/neighbors/_classification.py:215: DataConversionWarning: A column-vector y was passed when a 1d array was expected. Please change the shape of y to (n_samples,), for example using ravel().\n",
      "  return self._fit(X, y)\n",
      "/Users/hetalpatel/miniconda3/envs/aiml/lib/python3.11/site-packages/sklearn/neighbors/_classification.py:215: DataConversionWarning: A column-vector y was passed when a 1d array was expected. Please change the shape of y to (n_samples,), for example using ravel().\n",
      "  return self._fit(X, y)\n",
      "/Users/hetalpatel/miniconda3/envs/aiml/lib/python3.11/site-packages/sklearn/neighbors/_classification.py:215: DataConversionWarning: A column-vector y was passed when a 1d array was expected. Please change the shape of y to (n_samples,), for example using ravel().\n",
      "  return self._fit(X, y)\n",
      "/Users/hetalpatel/miniconda3/envs/aiml/lib/python3.11/site-packages/sklearn/neighbors/_classification.py:215: DataConversionWarning: A column-vector y was passed when a 1d array was expected. Please change the shape of y to (n_samples,), for example using ravel().\n",
      "  return self._fit(X, y)\n",
      "/Users/hetalpatel/miniconda3/envs/aiml/lib/python3.11/site-packages/sklearn/neighbors/_classification.py:215: DataConversionWarning: A column-vector y was passed when a 1d array was expected. Please change the shape of y to (n_samples,), for example using ravel().\n",
      "  return self._fit(X, y)\n",
      "/Users/hetalpatel/miniconda3/envs/aiml/lib/python3.11/site-packages/sklearn/neighbors/_classification.py:215: DataConversionWarning: A column-vector y was passed when a 1d array was expected. Please change the shape of y to (n_samples,), for example using ravel().\n",
      "  return self._fit(X, y)\n",
      "/Users/hetalpatel/miniconda3/envs/aiml/lib/python3.11/site-packages/sklearn/neighbors/_classification.py:215: DataConversionWarning: A column-vector y was passed when a 1d array was expected. Please change the shape of y to (n_samples,), for example using ravel().\n",
      "  return self._fit(X, y)\n",
      "/Users/hetalpatel/miniconda3/envs/aiml/lib/python3.11/site-packages/sklearn/neighbors/_classification.py:215: DataConversionWarning: A column-vector y was passed when a 1d array was expected. Please change the shape of y to (n_samples,), for example using ravel().\n",
      "  return self._fit(X, y)\n",
      "/Users/hetalpatel/miniconda3/envs/aiml/lib/python3.11/site-packages/sklearn/neighbors/_classification.py:215: DataConversionWarning: A column-vector y was passed when a 1d array was expected. Please change the shape of y to (n_samples,), for example using ravel().\n",
      "  return self._fit(X, y)\n",
      "/Users/hetalpatel/miniconda3/envs/aiml/lib/python3.11/site-packages/sklearn/neighbors/_classification.py:215: DataConversionWarning: A column-vector y was passed when a 1d array was expected. Please change the shape of y to (n_samples,), for example using ravel().\n",
      "  return self._fit(X, y)\n",
      "/Users/hetalpatel/miniconda3/envs/aiml/lib/python3.11/site-packages/sklearn/neighbors/_classification.py:215: DataConversionWarning: A column-vector y was passed when a 1d array was expected. Please change the shape of y to (n_samples,), for example using ravel().\n",
      "  return self._fit(X, y)\n",
      "/Users/hetalpatel/miniconda3/envs/aiml/lib/python3.11/site-packages/sklearn/neighbors/_classification.py:215: DataConversionWarning: A column-vector y was passed when a 1d array was expected. Please change the shape of y to (n_samples,), for example using ravel().\n",
      "  return self._fit(X, y)\n",
      "/Users/hetalpatel/miniconda3/envs/aiml/lib/python3.11/site-packages/sklearn/neighbors/_classification.py:215: DataConversionWarning: A column-vector y was passed when a 1d array was expected. Please change the shape of y to (n_samples,), for example using ravel().\n",
      "  return self._fit(X, y)\n",
      "/Users/hetalpatel/miniconda3/envs/aiml/lib/python3.11/site-packages/sklearn/neighbors/_classification.py:215: DataConversionWarning: A column-vector y was passed when a 1d array was expected. Please change the shape of y to (n_samples,), for example using ravel().\n",
      "  return self._fit(X, y)\n",
      "/Users/hetalpatel/miniconda3/envs/aiml/lib/python3.11/site-packages/sklearn/neighbors/_classification.py:215: DataConversionWarning: A column-vector y was passed when a 1d array was expected. Please change the shape of y to (n_samples,), for example using ravel().\n",
      "  return self._fit(X, y)\n",
      "/Users/hetalpatel/miniconda3/envs/aiml/lib/python3.11/site-packages/sklearn/neighbors/_classification.py:215: DataConversionWarning: A column-vector y was passed when a 1d array was expected. Please change the shape of y to (n_samples,), for example using ravel().\n",
      "  return self._fit(X, y)\n",
      "/Users/hetalpatel/miniconda3/envs/aiml/lib/python3.11/site-packages/sklearn/neighbors/_classification.py:215: DataConversionWarning: A column-vector y was passed when a 1d array was expected. Please change the shape of y to (n_samples,), for example using ravel().\n",
      "  return self._fit(X, y)\n",
      "/Users/hetalpatel/miniconda3/envs/aiml/lib/python3.11/site-packages/sklearn/neighbors/_classification.py:215: DataConversionWarning: A column-vector y was passed when a 1d array was expected. Please change the shape of y to (n_samples,), for example using ravel().\n",
      "  return self._fit(X, y)\n",
      "/Users/hetalpatel/miniconda3/envs/aiml/lib/python3.11/site-packages/sklearn/neighbors/_classification.py:215: DataConversionWarning: A column-vector y was passed when a 1d array was expected. Please change the shape of y to (n_samples,), for example using ravel().\n",
      "  return self._fit(X, y)\n",
      "/Users/hetalpatel/miniconda3/envs/aiml/lib/python3.11/site-packages/sklearn/neighbors/_classification.py:215: DataConversionWarning: A column-vector y was passed when a 1d array was expected. Please change the shape of y to (n_samples,), for example using ravel().\n",
      "  return self._fit(X, y)\n",
      "/Users/hetalpatel/miniconda3/envs/aiml/lib/python3.11/site-packages/sklearn/neighbors/_classification.py:215: DataConversionWarning: A column-vector y was passed when a 1d array was expected. Please change the shape of y to (n_samples,), for example using ravel().\n",
      "  return self._fit(X, y)\n",
      "/Users/hetalpatel/miniconda3/envs/aiml/lib/python3.11/site-packages/sklearn/neighbors/_classification.py:215: DataConversionWarning: A column-vector y was passed when a 1d array was expected. Please change the shape of y to (n_samples,), for example using ravel().\n",
      "  return self._fit(X, y)\n",
      "/Users/hetalpatel/miniconda3/envs/aiml/lib/python3.11/site-packages/sklearn/neighbors/_classification.py:215: DataConversionWarning: A column-vector y was passed when a 1d array was expected. Please change the shape of y to (n_samples,), for example using ravel().\n",
      "  return self._fit(X, y)\n",
      "/Users/hetalpatel/miniconda3/envs/aiml/lib/python3.11/site-packages/sklearn/neighbors/_classification.py:215: DataConversionWarning: A column-vector y was passed when a 1d array was expected. Please change the shape of y to (n_samples,), for example using ravel().\n",
      "  return self._fit(X, y)\n",
      "/Users/hetalpatel/miniconda3/envs/aiml/lib/python3.11/site-packages/sklearn/neighbors/_classification.py:215: DataConversionWarning: A column-vector y was passed when a 1d array was expected. Please change the shape of y to (n_samples,), for example using ravel().\n",
      "  return self._fit(X, y)\n",
      "/Users/hetalpatel/miniconda3/envs/aiml/lib/python3.11/site-packages/sklearn/neighbors/_classification.py:215: DataConversionWarning: A column-vector y was passed when a 1d array was expected. Please change the shape of y to (n_samples,), for example using ravel().\n",
      "  return self._fit(X, y)\n",
      "/Users/hetalpatel/miniconda3/envs/aiml/lib/python3.11/site-packages/sklearn/neighbors/_classification.py:215: DataConversionWarning: A column-vector y was passed when a 1d array was expected. Please change the shape of y to (n_samples,), for example using ravel().\n",
      "  return self._fit(X, y)\n",
      "/Users/hetalpatel/miniconda3/envs/aiml/lib/python3.11/site-packages/sklearn/neighbors/_classification.py:215: DataConversionWarning: A column-vector y was passed when a 1d array was expected. Please change the shape of y to (n_samples,), for example using ravel().\n",
      "  return self._fit(X, y)\n",
      "/Users/hetalpatel/miniconda3/envs/aiml/lib/python3.11/site-packages/sklearn/neighbors/_classification.py:215: DataConversionWarning: A column-vector y was passed when a 1d array was expected. Please change the shape of y to (n_samples,), for example using ravel().\n",
      "  return self._fit(X, y)\n"
     ]
    },
    {
     "name": "stdout",
     "output_type": "stream",
     "text": [
      "k= 15\n",
      "accuracy 1.0\n"
     ]
    },
    {
     "name": "stderr",
     "output_type": "stream",
     "text": [
      "/Users/hetalpatel/miniconda3/envs/aiml/lib/python3.11/site-packages/sklearn/neighbors/_classification.py:215: DataConversionWarning: A column-vector y was passed when a 1d array was expected. Please change the shape of y to (n_samples,), for example using ravel().\n",
      "  return self._fit(X, y)\n"
     ]
    }
   ],
   "source": [
    "params = {'knn__n_neighbors': list(range(1, 22, 2))}\n",
    "knn_grid = GridSearchCV(knn_pipe, param_grid=params)\n",
    "knn_grid.fit(X_train, y_train)\n",
    "best_k = list(knn_grid.best_params_.values())[0]\n",
    "best_acc = knn_grid.score(X_test, y_test)\n",
    "\n",
    "print('k=',best_k)\n",
    "print('accuracy',best_acc)"
   ]
  },
  {
   "cell_type": "markdown",
   "metadata": {},
   "source": [
    "### Step 5 calculate probability using predict_proba function with K=15.\n",
    "\n",
    "Looking at probability , Class 1 and class 2 has highest probability compare to Class 3.\n",
    "\n",
    "            class_1\t    Class_2\t    Class_3\n",
    "        0\t0.933333\t0.066667\t0.000000\n",
    "        1\t0.000000\t1.000000\t0.000000\n",
    "        2\t1.000000\t0.000000\t0.000000\n",
    "        3\t1.000000\t0.000000\t0.000000\n",
    "        4\t0.000000\t1.000000\t0.000000\n",
    "        5\t1.000000\t0.000000\t0.000000\n",
    "        6\t1.000000\t0.000000\t0.000000\n",
    "        7\t0.000000\t0.733333\t0.266667\n",
    "        8\t0.266667\t0.733333\t0.000000\n",
    "        9\t0.000000\t0.266667\t0.733333"
   ]
  },
  {
   "cell_type": "code",
   "execution_count": 9,
   "metadata": {},
   "outputs": [
    {
     "name": "stdout",
     "output_type": "stream",
     "text": [
      "[[0.92307692 0.07692308 0.        ]\n",
      " [0.         1.         0.        ]\n",
      " [1.         0.         0.        ]\n",
      " [1.         0.         0.        ]\n",
      " [0.         1.         0.        ]\n",
      " [1.         0.         0.        ]\n",
      " [1.         0.         0.        ]\n",
      " [0.         0.76923077 0.23076923]\n",
      " [0.30769231 0.69230769 0.        ]\n",
      " [0.         0.30769231 0.69230769]\n",
      " [0.07692308 0.92307692 0.        ]\n",
      " [0.07692308 0.92307692 0.        ]\n",
      " [0.         0.07692308 0.92307692]\n",
      " [0.         0.07692308 0.92307692]\n",
      " [1.         0.         0.        ]\n",
      " [0.38461538 0.61538462 0.        ]\n",
      " [0.         1.         0.        ]\n",
      " [1.         0.         0.        ]\n",
      " [1.         0.         0.        ]\n",
      " [0.         0.         1.        ]\n",
      " [0.         0.07692308 0.92307692]\n",
      " [0.         0.         1.        ]\n",
      " [0.92307692 0.07692308 0.        ]\n",
      " [1.         0.         0.        ]\n",
      " [0.         0.53846154 0.46153846]\n",
      " [0.         1.         0.        ]\n",
      " [1.         0.         0.        ]\n",
      " [0.53846154 0.46153846 0.        ]\n",
      " [0.76923077 0.23076923 0.        ]\n",
      " [0.         1.         0.        ]\n",
      " [1.         0.         0.        ]\n",
      " [0.         0.07692308 0.92307692]\n",
      " [0.         1.         0.        ]\n",
      " [0.         0.07692308 0.92307692]\n",
      " [0.         0.         1.        ]\n",
      " [0.         1.         0.        ]\n",
      " [1.         0.         0.        ]\n",
      " [0.         0.         1.        ]\n",
      " [0.         0.38461538 0.61538462]\n",
      " [0.         1.         0.        ]\n",
      " [0.         0.         1.        ]\n",
      " [0.         0.76923077 0.23076923]\n",
      " [1.         0.         0.        ]\n",
      " [0.         0.92307692 0.07692308]\n",
      " [0.         1.         0.        ]]\n"
     ]
    },
    {
     "name": "stderr",
     "output_type": "stream",
     "text": [
      "/Users/hetalpatel/miniconda3/envs/aiml/lib/python3.11/site-packages/sklearn/neighbors/_classification.py:215: DataConversionWarning: A column-vector y was passed when a 1d array was expected. Please change the shape of y to (n_samples,), for example using ravel().\n",
      "  return self._fit(X, y)\n"
     ]
    },
    {
     "data": {
      "text/plain": [
       "Class_2\n",
       "0.000000    4\n",
       "1.000000    2\n",
       "0.076923    1\n",
       "0.307692    1\n",
       "0.692308    1\n",
       "0.769231    1\n",
       "Name: count, dtype: int64"
      ]
     },
     "execution_count": 9,
     "metadata": {},
     "output_type": "execute_result"
    }
   ],
   "source": [
    "### BEGIN SOLUTION\n",
    "base_pipe = Pipeline([('scaler',StandardScaler()), ('knn', KNeighborsClassifier(n_neighbors=13))])\n",
    "base_pipe.fit(X_train, y_train)\n",
    "base_probs = base_pipe.predict_proba(X_test)\n",
    "ypred = base_pipe.predict(X_test)\n",
    "### END SOLUTION\n",
    "print(base_probs)\n",
    "# Answer check\n",
    "probability = pd.DataFrame(base_probs[:10], columns = ['Class_1', 'Class_2','Class_3'])\n",
    "probability.value_counts('Class_2')"
   ]
  },
  {
   "cell_type": "markdown",
   "metadata": {},
   "source": [
    "### STep 5 Confusion matrix"
   ]
  },
  {
   "cell_type": "code",
   "execution_count": 10,
   "metadata": {},
   "outputs": [
    {
     "name": "stdout",
     "output_type": "stream",
     "text": [
      "Confusion Matrix:\n",
      "[[15  0  0]\n",
      " [ 1 17  0]\n",
      " [ 0  0 12]]\n",
      "Classification Report:\n",
      "              precision    recall  f1-score   support\n",
      "\n",
      "           1       0.94      1.00      0.97        15\n",
      "           2       1.00      0.94      0.97        18\n",
      "           3       1.00      1.00      1.00        12\n",
      "\n",
      "    accuracy                           0.98        45\n",
      "   macro avg       0.98      0.98      0.98        45\n",
      "weighted avg       0.98      0.98      0.98        45\n",
      "\n",
      "Accuracy: 0.9777777777777777\n"
     ]
    }
   ],
   "source": [
    "result = confusion_matrix(y_test, ypred)\n",
    "print('Confusion Matrix:')\n",
    "print(result)\n",
    "result1 = classification_report(y_test, ypred)\n",
    "print('Classification Report:',)\n",
    "print (result1)\n",
    "result2 = accuracy_score(y_test,ypred)\n",
    "print('Accuracy:',result2)"
   ]
  }
 ],
 "metadata": {
  "kernelspec": {
   "display_name": "Python 3",
   "language": "python",
   "name": "python3"
  },
  "language_info": {
   "codemirror_mode": {
    "name": "ipython",
    "version": 3
   },
   "file_extension": ".py",
   "mimetype": "text/x-python",
   "name": "python",
   "nbconvert_exporter": "python",
   "pygments_lexer": "ipython3",
   "version": "3.11.5"
  }
 },
 "nbformat": 4,
 "nbformat_minor": 4
}
